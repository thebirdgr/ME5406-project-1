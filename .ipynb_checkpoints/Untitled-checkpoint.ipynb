{
 "cells": [
  {
   "cell_type": "code",
   "execution_count": 91,
   "id": "2ac9a647-44eb-4794-a38d-30182ad5141b",
   "metadata": {},
   "outputs": [],
   "source": [
    "import gym\n",
    "from gym import wrappers\n",
    "from gym import envs\n",
    "import pprint"
   ]
  },
  {
   "cell_type": "code",
   "execution_count": 92,
   "id": "3697f3ce-8310-4ac1-a03f-e852e9b2364d",
   "metadata": {},
   "outputs": [
    {
     "name": "stdout",
     "output_type": "stream",
     "text": [
      "\n",
      "\u001b[41mS\u001b[0mFFF\n",
      "FHFH\n",
      "FFFH\n",
      "HFFG\n"
     ]
    }
   ],
   "source": [
    "env = gym.make('FrozenLake-v1').env\n",
    "env.render()"
   ]
  },
  {
   "cell_type": "code",
   "execution_count": 93,
   "id": "ef0644ea-6e54-4737-9829-b8dd099bc40f",
   "metadata": {},
   "outputs": [
    {
     "name": "stdout",
     "output_type": "stream",
     "text": [
      "Action space Discrete(4)\n",
      "State space Discrete(16)\n"
     ]
    }
   ],
   "source": [
    "env.reset()\n",
    "print('Action space {}'.format(env.action_space))\n",
    "print('State space {}'.format(env.observation_space))\n",
    "pp = pprint.PrettyPrinter(indent=4)"
   ]
  },
  {
   "cell_type": "code",
   "execution_count": 94,
   "id": "dffe6517-af8d-45ed-b357-cf66cf67c0aa",
   "metadata": {},
   "outputs": [
    {
     "name": "stdout",
     "output_type": "stream",
     "text": [
      "{   0: [   (0.3333333333333333, 0, 0.0, False),\n",
      "           (0.3333333333333333, 0, 0.0, False),\n",
      "           (0.3333333333333333, 4, 0.0, False)],\n",
      "    1: [   (0.3333333333333333, 0, 0.0, False),\n",
      "           (0.3333333333333333, 4, 0.0, False),\n",
      "           (0.3333333333333333, 1, 0.0, False)],\n",
      "    2: [   (0.3333333333333333, 4, 0.0, False),\n",
      "           (0.3333333333333333, 1, 0.0, False),\n",
      "           (0.3333333333333333, 0, 0.0, False)],\n",
      "    3: [   (0.3333333333333333, 1, 0.0, False),\n",
      "           (0.3333333333333333, 0, 0.0, False),\n",
      "           (0.3333333333333333, 0, 0.0, False)]}\n"
     ]
    }
   ],
   "source": [
    "pp.pprint(env.P[0])\n",
    "# outputs {action: [probability (next_state), next_state, reward, done]}\n",
    "#  Left, Down, Right and Up and (corresponding to numbers 0, 1, 2 and 3). "
   ]
  },
  {
   "cell_type": "code",
   "execution_count": 95,
   "id": "9d42596a-85a6-4d0d-a285-1528fe02d411",
   "metadata": {},
   "outputs": [
    {
     "name": "stdout",
     "output_type": "stream",
     "text": [
      "{   0: [   (0.3333333333333333, 10, 0.0, False),\n",
      "           (0.3333333333333333, 13, 0.0, False),\n",
      "           (0.3333333333333333, 14, 0.0, False)],\n",
      "    1: [   (0.3333333333333333, 13, 0.0, False),\n",
      "           (0.3333333333333333, 14, 0.0, False),\n",
      "           (0.3333333333333333, 15, 1.0, True)],\n",
      "    2: [   (0.3333333333333333, 14, 0.0, False),\n",
      "           (0.3333333333333333, 15, 1.0, True),\n",
      "           (0.3333333333333333, 10, 0.0, False)],\n",
      "    3: [   (0.3333333333333333, 15, 1.0, True),\n",
      "           (0.3333333333333333, 10, 0.0, False),\n",
      "           (0.3333333333333333, 13, 0.0, False)]}\n"
     ]
    }
   ],
   "source": [
    "pp.pprint(env.P[14])"
   ]
  },
  {
   "cell_type": "code",
   "execution_count": 96,
   "id": "90388f6d-1f8b-4691-adc1-16576fe70518",
   "metadata": {},
   "outputs": [
    {
     "name": "stdout",
     "output_type": "stream",
     "text": [
      "\n",
      "\u001b[41mS\u001b[0mFFF\n",
      "FHFH\n",
      "FFFH\n",
      "HFFG\n",
      "newstate 4\n",
      "reward 0.0\n",
      "done False\n",
      "\n",
      "  (Down)\n",
      "SFFF\n",
      "\u001b[41mF\u001b[0mHFH\n",
      "FFFH\n",
      "HFFG\n"
     ]
    }
   ],
   "source": [
    "env.reset()\n",
    "env.render()\n",
    "new_state, r, done, info = env.step(1)\n",
    "# step takes the indexed action\n",
    "\n",
    "print('newstate {}'.format(new_state))\n",
    "print('reward {}'.format(r))\n",
    "print('done {}'.format(done))\n",
    "print()\n",
    "env.render()\n"
   ]
  },
  {
   "cell_type": "code",
   "execution_count": 97,
   "id": "20c35fcb-06a8-4148-9183-45ae9dd7e940",
   "metadata": {
    "tags": []
   },
   "outputs": [
    {
     "name": "stdout",
     "output_type": "stream",
     "text": [
      "Episode finished after 2 timesteps\n",
      "  (Left)\n",
      "SFFF\n",
      "F\u001b[41mH\u001b[0mFH\n",
      "FFFH\n",
      "HFFG\n"
     ]
    }
   ],
   "source": [
    "env.reset()\n",
    "\n",
    "for i in range(40):\n",
    "    # env.render()\n",
    "    new_state, r, done, info = env.step(env.action_space.sample())\n",
    "    # pp.pprint(env.P[new_state])\n",
    "    if done: # done is used for both failed case and success case\n",
    "        print(\"Episode finished after {} timesteps\".format(i+1))\n",
    "        env.render() \n",
    "        break\n",
    "    # print('Observation : ' + str(new_state))\n",
    "    # print('Reward      : ' + str(r))\n",
    "    # print('Done        : ' + str(done))\n",
    "    # print('---------------------')\n",
    "    # print(env.s) # this is the current state number\n",
    "    # print(env.isd[env.s]) # isd is initial state distribution\n",
    "env.close()"
   ]
  },
  {
   "cell_type": "code",
   "execution_count": 98,
   "id": "82bc9bef-0e8a-4827-a656-b3a37a0de269",
   "metadata": {},
   "outputs": [],
   "source": [
    "# P is a dictionary of dictionary of lists\n",
    "# P[s][a] == [(prob, next_state, reward, terminal), ...]\n",
    "# I isd is a list or array of length nS\n",
    "# isd == [0., 0., 1., 0.]"
   ]
  },
  {
   "cell_type": "code",
   "execution_count": 111,
   "id": "f31a8c64-4598-414e-aed8-9b3365238070",
   "metadata": {},
   "outputs": [
    {
     "name": "stderr",
     "output_type": "stream",
     "text": [
      "IOPub data rate exceeded.\n",
      "The Jupyter server will temporarily stop sending output\n",
      "to the client in order to avoid crashing it.\n",
      "To change this limit, set the config variable\n",
      "`--ServerApp.iopub_data_rate_limit`.\n",
      "\n",
      "Current values:\n",
      "ServerApp.iopub_data_rate_limit=1000000.0 (bytes/sec)\n",
      "ServerApp.rate_limit_window=3.0 (secs)\n",
      "\n"
     ]
    },
    {
     "data": {
      "image/png": "[encoded data removed]",
      "text/plain": [
       "<Figure size 640x480 with 1 Axes>"
      ]
     },
     "metadata": {},
     "output_type": "display_data"
    }
   ],
   "source": [
    "import gym\n",
    "from random import randint\n",
    "import math\n",
    "import numpy as np\n",
    "import matplotlib.pyplot as plt\n",
    "\n",
    "def learn(episodeCount):\n",
    "\tfor i_episode in range(episodeCount):  # Start an episode\n",
    "\t\tobs = env.reset()\n",
    "\t\t# Compute the decay of the exploration\n",
    "\t\tdecayX = 0.02\n",
    "\t\tdecayY = 20\n",
    "\t\tdecay = max(-i_episode*decayX+decayY, 10/(i_episode+1))\n",
    "\t\tdoEpisodeMC(obs, decay, i_episode)\n",
    "\n",
    "\n",
    "def doEpisodeMC(obs, decay, i_episode):\n",
    "\t# Reset reward count and states/actions for this episode\n",
    "\tepisodeStatesActions = []\n",
    "\ttotalRewards = 0\n",
    "\tfor t in range(200):\n",
    "\t\tstate = getState(obs)  # Get the state\n",
    "\t\taction = policy(state, decay)  # Get the action\n",
    "\t\tepisodeStatesActions.append({'state': state, 'action': action})  # Save state and action to episodeStatesActions\n",
    "\t\tobs, reward, done, _ = env.step(action)  # Apply the action\n",
    "\t\ttotalRewards += reward  # Update total reward for this episode\n",
    "\t\tif done:  # Episode is over\n",
    "\t\t\tstepsHistory[i_episode] = t\n",
    "\t\t\tfor i, state_action in enumerate(episodeStatesActions):  # Update value for chosen actions\n",
    "\t\t\t\tupdatePolicyMC(state_action['state'], state_action['action'], totalRewards-i)\n",
    "\t\t\tbreak\n",
    "\n",
    "\n",
    "# @param state <string> the state to update\n",
    "# @param action <int> the action to update\n",
    "# @param G <int> the reward\n",
    "def updatePolicyMC(state, action, G):\n",
    "    a = history[state][action]\n",
    "    print(history)\n",
    "    a['value'] = (a['value'] * a['count'] + G) / (a['count'] + 1)\n",
    "    a['count'] += 1\n",
    "\n",
    "\n",
    "# @param obs <[float]> the observation to convert into a state\n",
    "# @return the state associated to the observation_space\n",
    "# If the set of observations where never met, create the state\n",
    "# The function reduces the number of possible states\n",
    "def getState(obs):\n",
    "    state = ''\n",
    "    state += str(math.floor(obs))\n",
    "    return state\n",
    "\n",
    "\n",
    "# @param state <string>\n",
    "# @param decay <int>\n",
    "# @return an action\n",
    "# The policy progressivly stops exploration and gets greedy\n",
    "def policy(state, decay):\n",
    "\t# Get the less explored action and the most valued action\n",
    "\tmaxValueAction = env.action_space.sample()\n",
    "\tminCountAction = env.action_space.sample()\n",
    "\tif not state in history:  # If state does not existe, create it\n",
    "\t\thistory[state] = []\n",
    "\t\tfor _ in range(env.action_space.n):\n",
    "\t\t\thistory[state].append({'count':0, 'value':0})\n",
    "\tstateValues = history[state]\n",
    "\tfor action in range(env.action_space.n):\n",
    "\t\tif stateValues[maxValueAction]['value'] < stateValues[action]['value']:\n",
    "\t\t\tmaxValueAction = action\n",
    "\t\tif stateValues[minCountAction]['count'] > stateValues[action]['count']:\n",
    "\t\t\tminCountAction = action\n",
    "\t# Computing the decay of the exploration\n",
    "\tif randint(0, 100) < decay:\n",
    "\t\treturn minCountAction\n",
    "\telse:\n",
    "\t\treturn maxValueAction\n",
    "\n",
    "\n",
    "env = gym.make('FrozenLake-v1')\n",
    "env.seed(123)\n",
    "nbEpisodes = 2000\n",
    "stepsHistory = [0]*nbEpisodes\n",
    "\n",
    "history = {}  # 'state' ==> [{'count': int, 'value': float}]\n",
    "print(history)\n",
    "\n",
    "learn(nbEpisodes)\n",
    "\n",
    "env.close()\n",
    "plt.plot(range(nbEpisodes), stepsHistory, range(nbEpisodes), [50]*nbEpisodes)\n",
    "plt.ylabel('Number of steps')\n",
    "plt.show()"
   ]
  },
  {
   "cell_type": "code",
   "execution_count": null,
   "id": "eea033c3-175f-4356-af15-3d570659de56",
   "metadata": {},
   "outputs": [],
   "source": []
  }
 ],
 "metadata": {
  "kernelspec": {
   "display_name": "Python 3 (ipykernel)",
   "language": "python",
   "name": "python3"
  },
  "language_info": {
   "codemirror_mode": {
    "name": "ipython",
    "version": 3
   },
   "file_extension": ".py",
   "mimetype": "text/x-python",
   "name": "python",
   "nbconvert_exporter": "python",
   "pygments_lexer": "ipython3",
   "version": "3.9.12"
  }
 },
 "nbformat": 4,
 "nbformat_minor": 5
}
